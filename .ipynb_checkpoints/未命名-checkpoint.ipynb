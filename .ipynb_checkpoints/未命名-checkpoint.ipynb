{
 "cells": [
  {
   "cell_type": "code",
   "execution_count": null,
   "metadata": {},
   "outputs": [],
   "source": [
    "import pandas as pd  \n",
    "import numpy as np\n",
    "import matplotlib.pyplot as plt\n",
    "# -*- coding: utf-8 -*-\n",
    "plt.rcParams['font.sans-serif']=['SimHei'] #用来正常显示中文标签\n",
    "plt.rcParams['axes.unicode_minus'] = False #用来正常显示负号\n",
    "warnings.filterwarnings(\"ignore\")  # 选择过滤警告\n",
    "import scipy.io as scio\n",
    "import scipy\n",
    "import statsmodels.tsa.api as smt\n",
    "import statsmodels.tsa.api as smt\n",
    "from statsmodels.tsa.stattools import coint\n",
    "from statsmodels.formula.api import ols\n",
    "from statsmodels.stats.anova import anova_lm\n",
    "import warnings\n",
    "\n",
    "\n",
    "import datetime\n",
    "import pandas as pd\n",
    "import numpy as np\n",
    "from scipy import stats\n",
    "from scipy.stats import pearsonr\n",
    "import statsmodels.api as sm\n",
    "from statsmodels import regression\n",
    "from six import StringIO\n",
    "#导入pca\n",
    "from sklearn.decomposition import PCA\n",
    "from sklearn.svm import SVC,SVR\n",
    "from sklearn.model_selection import train_test_split\n",
    "from sklearn.model_selection import GridSearchCV\n",
    "from sklearn import metrics\n",
    "from sklearn.preprocessing import OneHotEncoder\n",
    "from sklearn.decomposition import PCA\n",
    "\n",
    "import matplotlib.dates as mdates\n",
    "import matplotlib.pyplot as plt\n",
    "\n",
    "import seaborn as sns\n",
    "import os\n",
    "\n",
    "pd.set_option('display.max_rows',500)\n",
    "pd.set_option('display.min_rows',500)"
   ]
  },
  {
   "cell_type": "code",
   "execution_count": null,
   "metadata": {},
   "outputs": [],
   "source": [
    "# 读取数据\n",
    "data=pd.read_excel('data.xlsx',index_col='dates')\n",
    "data['自由流通市值']=data['自由流通股本']*data['收盘价']\n",
    "price=data['收盘价']\n",
    "op=data['开盘价']\n",
    "dates=data.index\n",
    "dates=dates[(dates>'20100101') & (dates<'20210101')] #回测2010-2020数据\n",
    "factors=data[['cpi_month', 'pmi', 'ind_growth_yoy', 'fixed_assets_investment',\n",
    "       'consistency_idx','early_warning_idx',\n",
    "       'foreign','m2', 'm1', 'retail_sin',\n",
    "        'gdp_sin','commodity_house_idx',\n",
    "       '十年国债', '成交额', '换手率', '自由流通市值', 'PE(TTM)', '股息率', 'PB(LR)',\n",
    "       '一致预测净利润同比', '一致预测每股收益(FY1)', 'macd', 'kdj',\n",
    "       'rsi', 'atr', 'ROE(平均)', '归母净利润同比增长率', 'EPS', '营业收入同比增长率']]\n",
    "# 预测周期\n",
    "m=19\n",
    "# 训练周期\n",
    "k=235\n",
    "#tag值为一个月后的涨幅\n",
    "price_ch=price.shift(-m)/price-1"
   ]
  }
 ],
 "metadata": {
  "kernelspec": {
   "display_name": "Python 3",
   "language": "python",
   "name": "python3"
  },
  "language_info": {
   "codemirror_mode": {
    "name": "ipython",
    "version": 3
   },
   "file_extension": ".py",
   "mimetype": "text/x-python",
   "name": "python",
   "nbconvert_exporter": "python",
   "pygments_lexer": "ipython3",
   "version": "3.8.5"
  }
 },
 "nbformat": 4,
 "nbformat_minor": 4
}
