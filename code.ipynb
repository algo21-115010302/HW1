{
 "cells": [
  {
   "cell_type": "code",
   "execution_count": null,
   "metadata": {},
   "outputs": [],
   "source": [
    "import pandas as pd  \n",
    "import numpy as np\n",
    "import matplotlib.pyplot as plt\n",
    "# -*- coding: utf-8 -*-\n",
    "plt.rcParams['font.sans-serif']=['SimHei'] #用来正常显示中文标签\n",
    "plt.rcParams['axes.unicode_minus'] = False #用来正常显示负号\n",
    "warnings.filterwarnings(\"ignore\")  # 选择过滤警告\n",
    "import scipy.io as scio\n",
    "import scipy\n",
    "import statsmodels.tsa.api as smt\n",
    "import statsmodels.tsa.api as smt\n",
    "from statsmodels.tsa.stattools import coint\n",
    "from statsmodels.formula.api import ols\n",
    "from statsmodels.stats.anova import anova_lm\n",
    "import warnings\n",
    "\n",
    "\n",
    "import datetime\n",
    "import pandas as pd\n",
    "import numpy as np\n",
    "from scipy import stats\n",
    "from scipy.stats import pearsonr\n",
    "import statsmodels.api as sm\n",
    "from statsmodels import regression\n",
    "from six import StringIO\n",
    "#导入pca\n",
    "from sklearn.decomposition import PCA\n",
    "from sklearn.svm import SVC,SVR\n",
    "from sklearn.model_selection import train_test_split\n",
    "from sklearn.model_selection import GridSearchCV\n",
    "from sklearn import metrics\n",
    "from sklearn.preprocessing import OneHotEncoder\n",
    "from sklearn.decomposition import PCA\n",
    "\n",
    "import matplotlib.dates as mdates\n",
    "import matplotlib.pyplot as plt\n",
    "\n",
    "import seaborn as sns\n",
    "import os\n",
    "\n",
    "pd.set_option('display.max_rows',500)\n",
    "pd.set_option('display.min_rows',500)"
   ]
  },
  {
   "cell_type": "code",
   "execution_count": null,
   "metadata": {},
   "outputs": [],
   "source": [
    "# 读取数据\n",
    "data=pd.read_excel('data.xlsx',index_col='dates')\n",
    "data['自由流通市值']=data['自由流通股本']*data['收盘价']\n",
    "price=data['收盘价']\n",
    "op=data['开盘价']\n",
    "dates=data.index\n",
    "dates=dates[(dates>'20100101') & (dates<'20210101')] #回测2010-2020数据\n",
    "factors=data[['cpi_month', 'pmi', 'ind_growth_yoy', 'fixed_assets_investment',\n",
    "       'consistency_idx','early_warning_idx',\n",
    "       'foreign','m2', 'm1', 'retail_sin',\n",
    "        'gdp_sin','commodity_house_idx',\n",
    "       '十年国债', '成交额', '换手率', '自由流通市值', 'PE(TTM)', '股息率', 'PB(LR)',\n",
    "       '一致预测净利润同比', '一致预测每股收益(FY1)', 'macd', 'kdj',\n",
    "       'rsi', 'atr', 'ROE(平均)', '归母净利润同比增长率', 'EPS', '营业收入同比增长率']]\n",
    "# 预测周期\n",
    "m=19\n",
    "# 训练周期\n",
    "k=235\n",
    "#tag值为一个月后的涨幅\n",
    "price_ch=price.shift(-m)/price-1"
   ]
  },
  {
   "cell_type": "code",
   "execution_count": null,
   "metadata": {},
   "outputs": [],
   "source": [
    "plt.figure(figsize=(10,6))\n",
    "plt.plot(price)\n",
    "plt.legend(['万得全A指数收盘价'])"
   ]
  },
  {
   "cell_type": "code",
   "execution_count": null,
   "metadata": {},
   "outputs": [],
   "source": [
    "len(['cpi_month', 'pmi', 'ind_growth_yoy', 'fixed_assets_investment',\n",
    "       'consistency_idx','early_warning_idx',\n",
    "       'foreign','m2', 'm1', 'retail_sin',\n",
    "        'gdp_sin','commodity_house_idx',\n",
    "       '十年国债', '成交额', '换手率', '自由流通市值', 'PE(TTM)', '股息率', 'PB(LR)',\n",
    "       '一致预测净利润同比', '一致预测每股收益(FY1)', 'macd', 'kdj',\n",
    "       'rsi', 'atr', 'ROE(平均)', '归母净利润同比增长率', 'EPS', '营业收入同比增长率'])"
   ]
  },
  {
   "cell_type": "code",
   "execution_count": null,
   "metadata": {},
   "outputs": [],
   "source": [
    "# 小波变换处理收盘价\n",
    "import pywt # 小波分析\n",
    "import scipy.fftpack as fftpack # 希尔伯特变换"
   ]
  },
  {
   "cell_type": "code",
   "execution_count": null,
   "metadata": {},
   "outputs": [],
   "source": [
    "#对指数时间序列进行小波分解，小波函数选择为db8，分解层个数为4个，即一个主要趋势，和四个细节成分\n",
    "#四个参数分别 对应 输入的信号 ，小波名称， 信号扩展模式， 分解阶次  \n",
    "res_4 = pywt.wavedec(price_ch.dropna(),wavelet='db8',mode='smooth',level=4) \n",
    "col_name = ['主趋势'] + [f'细节{i}' for i in range(1,5)]\n",
    "res4_df = pd.DataFrame(res_4,index=col_name).T\n",
    "res4_df.head()"
   ]
  },
  {
   "cell_type": "code",
   "execution_count": null,
   "metadata": {},
   "outputs": [],
   "source": [
    "res4_df.iloc[:, 1:].plot(subplots=True, layout=(2, 2), figsize=(18, 8), sharex=False)\n",
    "plt.show()\n",
    "#从上图可以看到，相对而言，细节3和4更像是高频的噪声信号，故对这两个细节进行阈值降噪处理。\n",
    "#这里涉及到阈值选择的问题。 通常来说，阈值选择有：1、无偏风险估计阈值(rigrsure) 2、固定阈值 \n",
    "#3、启发式阈值 4、极大极小阈值 这些方法，在这里选择rigsure方法来确定阈值"
   ]
  },
  {
   "cell_type": "code",
   "execution_count": null,
   "metadata": {},
   "outputs": [],
   "source": [
    "# 信号去噪\n",
    "class DenoisingThreshold(object):\n",
    "    '''\n",
    "    获取小波去噪的阈值\n",
    "    1. CalSqtwolog 固定阈值准则(sqtwolog)\n",
    "    2. CalRigrsure 无偏风险估计准则（rigrsure）\n",
    "    3. CalMinmaxi 极小极大准则（ minimaxi）\n",
    "    4. CalHeursure\n",
    "    参考：https://wenku.baidu.com/view/63d62a818762caaedd33d463.html\n",
    "    对股票价格等数据而言，其信号频率较少地与噪声重叠因此可以选用sqtwolog和heursure准则，使去噪效果更明显。 \n",
    "    但对收益率这样的高频数据，尽量采用保守的 rigrsure 或 minimaxi 准则来确定阈值，以保留较多的信号。\n",
    "    '''\n",
    "    def __init__(self,signal: np.array):\n",
    "        self.signal = signal\n",
    "        self.N = len(signal)\n",
    "    # 固定阈值准则(sqtwolog)\n",
    "    @property\n",
    "    def CalSqtwolog(self) -> float:\n",
    "        return np.sqrt(2 * np.log(self.N))\n",
    "   \n",
    "    # 无偏风险估计准则（rigrsure）\n",
    "    @property\n",
    "    def CalRigrsure(self)->float:\n",
    "        N = self.N\n",
    "        signal = np.abs(self.signal)\n",
    "        signal = np.sort(signal)\n",
    "        signal = np.power(signal, 2)\n",
    "        risk_j = np.zeros(N)\n",
    "        for j in range(N):\n",
    "            if j == 0:\n",
    "                risk_j[j] = 1 + signal[N - 1]\n",
    "            else:\n",
    "                risk_j[j] = (N - 2 * j + (N - j) *\n",
    "                             (signal[N - j]) + np.sum(signal[:j])) / N\n",
    "        k = risk_j.argmin()\n",
    "        return np.sqrt(signal[k])\n",
    "    # 极小极大准则（ minimaxi）\n",
    "    @property\n",
    "    def CalMinmaxi(self)->float:\n",
    "        if self.N > 32:\n",
    "            # N>32 可以使用minmaxi阈值 反之则为0\n",
    "            return 0.3936 + 0.1829 * (np.log(self.N) / np.log(2))\n",
    "        else:\n",
    "            return 0\n",
    "    @property\n",
    "    def GetCrit(self)->float:\n",
    "        return np.sqrt(np.power(np.log(self.N) / np.log(2), 3) * 1 / self.N)\n",
    "    @property\n",
    "    def GetEta(self)->float:\n",
    "        return (np.sum(np.abs(self.signal)**2) - self.N) / self.N\n",
    "    #混合准则（heursure）\n",
    "    @property\n",
    "    def CalHeursure(self):\n",
    "        if self.GetCrit > self.GetEta:\n",
    "            #print('推荐使用sqtwolog阈值')\n",
    "            return self.CalSqtwolog\n",
    "        else:\n",
    "            #print('推荐使用 Min(sqtwolog阈值,rigrsure阈值)')\n",
    "            return min(self.CalRigrsure,self.CalSqtwolog)"
   ]
  },
  {
   "cell_type": "code",
   "execution_count": null,
   "metadata": {},
   "outputs": [],
   "source": [
    "#对于高频的信号进行阈值处理\n",
    "for j in [3,4]:     \n",
    "    signal = res_4[j]\n",
    "    threshold = DenoisingThreshold(signal).CalRigrsure \n",
    "    res_4[j] = pywt.threshold(signal, threshold, 'soft')\n",
    "rec_hs = pywt.waverec(res_4, 'db8')"
   ]
  },
  {
   "cell_type": "code",
   "execution_count": null,
   "metadata": {},
   "outputs": [],
   "source": [
    "#得到小波处理后的股价\n",
    "try:\n",
    "    price_ch_new=pd.Series(rec_hs,index=price_ch.dropna().index)\n",
    "except:\n",
    "    price_ch_new=pd.Series(rec_hs[1:],index=price_ch.dropna().index)\n",
    "price_ch_new.name='收盘价'\n",
    "plt.figure(figsize=(15,4))\n",
    "plt.plot(price_ch)\n",
    "plt.plot(price_ch_new)\n",
    "plt.legend(['原收益率曲线','小波降噪后曲线'])"
   ]
  },
  {
   "cell_type": "code",
   "execution_count": null,
   "metadata": {},
   "outputs": [],
   "source": [
    "#是否使用小波降噪\n",
    "price_ch=price_ch_new"
   ]
  },
  {
   "cell_type": "code",
   "execution_count": null,
   "metadata": {},
   "outputs": [],
   "source": [
    "# 因子MA处理\n",
    "factors['cpi_month']=factors['cpi_month'].rolling(120).mean()\n",
    "factors['consistency_idx']=factors['consistency_idx'].rolling(60).mean()\n",
    "factors['early_warning_idx']=factors['early_warning_idx'].rolling(60).mean()\n",
    "factors['retail_sin']=factors['retail_sin'].rolling(60).mean()\n",
    "factors['m1']=factors['m1'].rolling(60).mean()\n",
    "factors['m2']=factors['m1'].rolling(60).mean()\n",
    "factors['gdp_sin']=factors['gdp_sin'].rolling(120).mean()\n",
    "factors['十年国债']=factors['十年国债'].rolling(60).mean()\n",
    "factors['自由流通市值']=factors['自由流通市值']\n",
    "factors['PE(TTM)']=factors['PE(TTM)'].rolling(20).mean()\n",
    "factors['股息率']=factors['股息率'].rolling(60).mean()\n",
    "factors['PB(LR)']=factors['PB(LR)'].rolling(120).mean()\n",
    "factors['一致预测净利润同比']=factors['一致预测净利润同比'].rolling(60).mean()\n",
    "factors['一致预测每股收益(FY1)']=factors['一致预测每股收益(FY1)'].rolling(60).mean()\n",
    "factors['营业收入同比增长率']=factors['营业收入同比增长率'].rolling(60).mean()"
   ]
  },
  {
   "cell_type": "code",
   "execution_count": null,
   "metadata": {},
   "outputs": [],
   "source": [
    "#去极值标准化\n",
    "def mad(factor):\n",
    "    me=np.median(factor)\n",
    "    mad=np.median(abs(factor-me))\n",
    "    up=me+1.4826*mad*3\n",
    "    down=me-1.4826*mad*3\n",
    "    factor=np.where(factor>up,up,factor)\n",
    "    factor=np.where(factor<down,down,factor)\n",
    "    return factor\n",
    "def stand(factor):\n",
    "    mean=factor.mean()\n",
    "    std=factor.std()\n",
    "    return (factor-mean)/std\n",
    "factors=factors.apply(lambda x: mad(x),axis=0)\n",
    "factors=factors.apply(lambda x: stand(x),axis=0)"
   ]
  },
  {
   "cell_type": "code",
   "execution_count": null,
   "metadata": {},
   "outputs": [],
   "source": [
    "# 股价涨跌幅平稳性检验\n",
    "plt.figure(figsize=(15,4))\n",
    "plt.title('平稳性检验')\n",
    "plt.plot(price_ch)\n",
    "plt.show()\n",
    "smt.adfuller(price_ch.dropna())"
   ]
  },
  {
   "cell_type": "code",
   "execution_count": null,
   "metadata": {},
   "outputs": [],
   "source": [
    "#根据corr结果选择每个因子的滞后期\n",
    "# factors['cpi_month']=factors['cpi_month'].shift(40)\n",
    "# factors['fixed_assets_investment']=factors['fixed_assets_investment'].shift(120)\n",
    "# factors['early_warning_idx']=factors['early_warning_idx'].shift(60)\n",
    "factors['retail_sin']=factors['retail_sin'].shift(40)\n",
    "factors['十年国债']=factors['十年国债'].shift(20)\n",
    "factors['成交额']=factors['成交额'].shift(20)\n",
    "factors['换手率']=factors['换手率'].shift(20)\n",
    "factors['ind_growth_yoy']=factors['ind_growth_yoy'].shift(20)\n",
    "factors['自由流通市值']=factors['自由流通市值'].shift(20)\n",
    "factors['一致预测每股收益(FY1)']=factors['一致预测每股收益(FY1)'].shift(60)\n",
    "factors['macd']=factors['macd'].shift(20)\n",
    "factors['kdj']=factors['kdj'].shift(20)\n",
    "factors['rsi']=factors['rsi'].shift(20)\n",
    "factors['ROE(平均)']=factors['ROE(平均)'].shift(40)\n",
    "factors['gdp_sin']=factors['gdp_sin'].shift(60)\n",
    "factors['EPS']=factors['EPS'].shift(20)\n",
    "factors['归母净利润同比增长率']=factors['归母净利润同比增长率'].shift(60)"
   ]
  },
  {
   "cell_type": "code",
   "execution_count": null,
   "metadata": {},
   "outputs": [],
   "source": [
    "factors=factors[['cpi_month','ind_growth_yoy', 'fixed_assets_investment','retail_sin','consistency_idx','early_warning_idx','commodity_house_idx',\n",
    "       'foreign','成交额', '换手率', '自由流通市值','十年国债', 'gdp_sin','PE(TTM)', '股息率',\n",
    "                 '一致预测净利润同比','一致预测每股收益(FY1)','ROE(平均)', '归母净利润同比增长率','EPS',\n",
    "                 '营业收入同比增长率','PB(LR)','macd', 'kdj','rsi']]"
   ]
  }
 ],
 "metadata": {
  "kernelspec": {
   "display_name": "Python 3",
   "language": "python",
   "name": "python3"
  },
  "language_info": {
   "codemirror_mode": {
    "name": "ipython",
    "version": 3
   },
   "file_extension": ".py",
   "mimetype": "text/x-python",
   "name": "python",
   "nbconvert_exporter": "python",
   "pygments_lexer": "ipython3",
   "version": "3.8.5"
  }
 },
 "nbformat": 4,
 "nbformat_minor": 4
}